{
 "cells": [
  {
   "cell_type": "markdown",
   "metadata": {},
   "source": [
    "# Keras tutorial - the Happy House\n",
    "\n",
    "Welcome to the first assignment of week 2. In this assignment, you will:\n",
    "1. Learn to use Keras, a high-level neural networks API (programming framework), written in Python and capable of running on top of several lower-level frameworks including TensorFlow and CNTK. \n",
    "2. See how you can in a couple of hours build a deep learning algorithm.\n",
    "\n",
    "Why are we using Keras? Keras was developed to enable deep learning engineers to build and experiment with different models very quickly. Just as TensorFlow is a higher-level framework than Python, Keras is an even higher-level framework and provides additional abstractions. Being able to go from idea to result with the least possible delay is key to finding good models. However, Keras is more restrictive than the lower-level frameworks, so there are some very complex models that you can implement in TensorFlow but not (without more difficulty) in Keras. That being said, Keras will work fine for many common models. \n",
    "\n",
    "In this exercise, you'll work on the \"Happy House\" problem, which we'll explain below. Let's load the required packages and solve the problem of the Happy House!"
   ]
  },
  {
   "cell_type": "code",
   "execution_count": 1,
   "metadata": {},
   "outputs": [
    {
     "name": "stderr",
     "output_type": "stream",
     "text": [
      "Using TensorFlow backend.\n"
     ]
    }
   ],
   "source": [
    "import numpy as np\n",
    "from keras import layers\n",
    "from keras.layers import Input, Dense, Activation, ZeroPadding2D, BatchNormalization, Flatten, Conv2D\n",
    "from keras.layers import AveragePooling2D, MaxPooling2D, Dropout, GlobalMaxPooling2D, GlobalAveragePooling2D\n",
    "from keras.models import Model\n",
    "from keras.preprocessing import image\n",
    "from keras.utils import layer_utils\n",
    "from keras.utils.data_utils import get_file\n",
    "from keras.applications.imagenet_utils import preprocess_input\n",
    "import pydot\n",
    "from IPython.display import SVG\n",
    "from keras.utils.vis_utils import model_to_dot\n",
    "from keras.utils import plot_model\n",
    "from kt_utils import *\n",
    "\n",
    "import keras.backend as K\n",
    "K.set_image_data_format('channels_last')\n",
    "import matplotlib.pyplot as plt\n",
    "from matplotlib.pyplot import imshow\n",
    "\n",
    "%matplotlib inline"
   ]
  },
  {
   "cell_type": "markdown",
   "metadata": {},
   "source": [
    "**Note**: As you can see, we've imported a lot of functions from Keras. You can use them easily just by calling them directly in the notebook. Ex: `X = Input(...)` or `X = ZeroPadding2D(...)`."
   ]
  },
  {
   "cell_type": "markdown",
   "metadata": {},
   "source": [
    "## 1 - The Happy House \n",
    "\n",
    "For your next vacation, you decided to spend a week with five of your friends from school. It is a very convenient house with many things to do nearby. But the most important benefit is that everybody has commited to be happy when they are in the house. So anyone wanting to enter the house must prove their current state of happiness.\n",
    "\n",
    "<img src=\"images/happy-house.jpg\" style=\"width:350px;height:270px;\">\n",
    "<caption><center> <u> <font color='purple'> **Figure 1** </u><font color='purple'>  : **the Happy House**</center></caption>\n",
    "\n",
    "\n",
    "As a deep learning expert, to make sure the \"Happy\" rule is strictly applied, you are going to build an algorithm which that uses pictures from the front door camera to check if the person is happy or not. The door should open only if the person is happy. \n",
    "\n",
    "You have gathered pictures of your friends and yourself, taken by the front-door camera. The dataset is labbeled. \n",
    "\n",
    "<img src=\"images/house-members.png\" style=\"width:550px;height:250px;\">\n",
    "\n",
    "Run the following code to normalize the dataset and learn about its shapes."
   ]
  },
  {
   "cell_type": "code",
   "execution_count": 2,
   "metadata": {},
   "outputs": [
    {
     "name": "stdout",
     "output_type": "stream",
     "text": [
      "number of training examples = 600\n",
      "number of test examples = 150\n",
      "X_train shape: (600, 64, 64, 3)\n",
      "Y_train shape: (600, 1)\n",
      "X_test shape: (150, 64, 64, 3)\n",
      "Y_test shape: (150, 1)\n"
     ]
    }
   ],
   "source": [
    "X_train_orig, Y_train_orig, X_test_orig, Y_test_orig, classes = load_dataset()\n",
    "\n",
    "# Normalize image vectors\n",
    "X_train = X_train_orig/255.\n",
    "X_test = X_test_orig/255.\n",
    "\n",
    "# Reshape\n",
    "Y_train = Y_train_orig.T\n",
    "Y_test = Y_test_orig.T\n",
    "\n",
    "print (\"number of training examples = \" + str(X_train.shape[0]))\n",
    "print (\"number of test examples = \" + str(X_test.shape[0]))\n",
    "print (\"X_train shape: \" + str(X_train.shape))\n",
    "print (\"Y_train shape: \" + str(Y_train.shape))\n",
    "print (\"X_test shape: \" + str(X_test.shape))\n",
    "print (\"Y_test shape: \" + str(Y_test.shape))"
   ]
  },
  {
   "cell_type": "markdown",
   "metadata": {},
   "source": [
    "**Details of the \"Happy\" dataset**:\n",
    "- Images are of shape (64,64,3)\n",
    "- Training: 600 pictures\n",
    "- Test: 150 pictures\n",
    "\n",
    "It is now time to solve the \"Happy\" Challenge."
   ]
  },
  {
   "cell_type": "markdown",
   "metadata": {},
   "source": [
    "## 2 - Building a model in Keras\n",
    "\n",
    "Keras is very good for rapid prototyping. In just a short time you will be able to build a model that achieves outstanding results.\n",
    "\n",
    "Here is an example of a model in Keras:\n",
    "\n",
    "```python\n",
    "def model(input_shape):\n",
    "    # Define the input placeholder as a tensor with shape input_shape. Think of this as your input image!\n",
    "    X_input = Input(input_shape)\n",
    "\n",
    "    # Zero-Padding: pads the border of X_input with zeroes\n",
    "    X = ZeroPadding2D((3, 3))(X_input)\n",
    "\n",
    "    # CONV -> BN -> RELU Block applied to X\n",
    "    X = Conv2D(32, (7, 7), strides = (1, 1), name = 'conv0')(X)\n",
    "    X = BatchNormalization(axis = 3, name = 'bn0')(X)\n",
    "    X = Activation('relu')(X)\n",
    "\n",
    "    # MAXPOOL\n",
    "    X = MaxPooling2D((2, 2), name='max_pool')(X)\n",
    "\n",
    "    # FLATTEN X (means convert it to a vector) + FULLYCONNECTED\n",
    "    X = Flatten()(X)\n",
    "    X = Dense(1, activation='sigmoid', name='fc')(X)\n",
    "\n",
    "    # Create model. This creates your Keras model instance, you'll use this instance to train/test the model.\n",
    "    model = Model(inputs = X_input, outputs = X, name='HappyModel')\n",
    "    \n",
    "    return model\n",
    "```\n",
    "\n",
    "Note that Keras uses a different convention with variable names than we've previously used with numpy and TensorFlow. In particular, rather than creating and assigning a new variable on each step of forward propagation such as `X`, `Z1`, `A1`, `Z2`, `A2`, etc. for the computations for the different layers, in Keras code each line above just reassigns `X` to a new value using `X = ...`. In other words, during each step of forward propagation, we are just writing the latest value in the commputation into the same variable `X`. The only exception was `X_input`, which we kept separate and did not overwrite, since we needed it at the end to create the Keras model instance (`model = Model(inputs = X_input, ...)` above). \n",
    "\n",
    "**Exercise**: Implement a `HappyModel()`. This assignment is more open-ended than most. We suggest that you start by implementing a model using the architecture we suggest, and run through the rest of this assignment using that as your initial model. But after that, come back and take initiative to try out other model architectures. For example, you might take inspiration from the model above, but then vary the network architecture and hyperparameters however you wish. You can also use other functions such as `AveragePooling2D()`, `GlobalMaxPooling2D()`, `Dropout()`. \n",
    "\n",
    "**Note**: You have to be careful with your data's shapes. Use what you've learned in the videos to make sure your convolutional, pooling and fully-connected layers are adapted to the volumes you're applying it to."
   ]
  },
  {
   "cell_type": "code",
   "execution_count": 3,
   "metadata": {
    "collapsed": true
   },
   "outputs": [],
   "source": [
    "# GRADED FUNCTION: HappyModel\n",
    "\n",
    "def HappyModel(input_shape):\n",
    "    \"\"\"\n",
    "    Implementation of the HappyModel.\n",
    "    \n",
    "    Arguments:\n",
    "    input_shape -- shape of the images of the dataset\n",
    "\n",
    "    Returns:\n",
    "    model -- a Model() instance in Keras\n",
    "    \"\"\"\n",
    "    # Feel free to use the suggested outline in the text above to get started, and run through the whole\n",
    "    # exercise (including the later portions of this notebook) once. The come back also try out other\n",
    "    # network architectures as well. \n",
    "    # Define the input placeholder as a tensor with shape input_shape. Think of this as your input image!\n",
    "    \n",
    "    X_input = Input(input_shape)\n",
    "\n",
    "    # Zero-Padding: pads the border of X_input with zeroes\n",
    "    X = ZeroPadding2D((3, 3))(X_input)\n",
    "\n",
    "    # CONV -> BN -> RELU Block applied to X\n",
    "    X = Conv2D(32, (7, 7), strides = (1, 1), name = 'conv0')(X)\n",
    "    X = BatchNormalization(axis = 3, name = 'bn0')(X)\n",
    "    X = Activation('relu')(X)\n",
    "    \n",
    "    # MAXPOOL\n",
    "    X = MaxPooling2D((2, 2), name='max_pool0')(X)\n",
    "\n",
    "    # CONV -> BN -> RELU Block applied to X\n",
    "    X = Conv2D(32, (3, 3), strides = (1, 1), name = 'conv1')(X)\n",
    "    X = BatchNormalization(axis = 3, name = 'bn1')(X)\n",
    "    X = Activation('relu')(X)\n",
    "\n",
    "    # MAXPOOL\n",
    "    X = MaxPooling2D((2, 2), name='max_pool1')(X)\n",
    "\n",
    "    # CONV -> BN -> RELU Block applied to X\n",
    "    X = Conv2D(32, (3, 3), strides = (1, 1), name = 'conv2')(X)\n",
    "    X = BatchNormalization(axis = 3, name = 'bn2')(X)\n",
    "    X = Activation('relu')(X)\n",
    "\n",
    "    # MAXPOOL\n",
    "    X = MaxPooling2D((2, 2), name='max_pool2')(X)\n",
    "    \n",
    "    # CONV -> BN -> RELU Block applied to X\n",
    "    X = Conv2D(32, (3, 3), strides = (1, 1), name = 'conv3')(X)\n",
    "    X = BatchNormalization(axis = 3, name = 'bn3')(X)\n",
    "    X = Activation('relu')(X)\n",
    "\n",
    "    # MAXPOOL\n",
    "    X = MaxPooling2D((2, 2), name='max_pool3')(X)\n",
    "    \n",
    "    # FLATTEN X (means convert it to a vector) + FULLYCONNECTED\n",
    "    X = Flatten()(X)\n",
    "    X = Dense(1, activation='sigmoid', name='fc')(X)\n",
    "\n",
    "    # Create model. This creates your Keras model instance, you'll use this instance to train/test the model.\n",
    "    model = Model(inputs = X_input, outputs = X, name='HappyModel')\n",
    "    \n",
    "    return model"
   ]
  },
  {
   "cell_type": "markdown",
   "metadata": {},
   "source": [
    "You have now built a function to describe your model. To train and test this model, there are four steps in Keras:\n",
    "1. Create the model by calling the function above\n",
    "2. Compile the model by calling `model.compile(optimizer = \"...\", loss = \"...\", metrics = [\"accuracy\"])`\n",
    "3. Train the model on train data by calling `model.fit(x = ..., y = ..., epochs = ..., batch_size = ...)`\n",
    "4. Test the model on test data by calling `model.evaluate(x = ..., y = ...)`\n",
    "\n",
    "If you want to know more about `model.compile()`, `model.fit()`, `model.evaluate()` and their arguments, refer to the official [Keras documentation](https://keras.io/models/model/).\n",
    "\n",
    "**Exercise**: Implement step 1, i.e. create the model."
   ]
  },
  {
   "cell_type": "code",
   "execution_count": 4,
   "metadata": {
    "collapsed": true
   },
   "outputs": [],
   "source": [
    "happyModel = HappyModel([64, 64, 3])"
   ]
  },
  {
   "cell_type": "markdown",
   "metadata": {},
   "source": [
    "**Exercise**: Implement step 2, i.e. compile the model to configure the learning process. Choose the 3 arguments of `compile()` wisely. Hint: the Happy Challenge is a binary classification problem."
   ]
  },
  {
   "cell_type": "code",
   "execution_count": 5,
   "metadata": {
    "collapsed": true
   },
   "outputs": [],
   "source": [
    "happyModel.compile(optimizer = \"adam\", loss = \"binary_crossentropy\", metrics = [\"accuracy\"])"
   ]
  },
  {
   "cell_type": "markdown",
   "metadata": {},
   "source": [
    "**Exercise**: Implement step 3, i.e. train the model. Choose the number of epochs and the batch size."
   ]
  },
  {
   "cell_type": "code",
   "execution_count": 6,
   "metadata": {},
   "outputs": [
    {
     "name": "stdout",
     "output_type": "stream",
     "text": [
      "Epoch 1/40\n",
      "600/600 [==============================] - 37s - loss: 0.4375 - acc: 0.7917    \n",
      "Epoch 2/40\n",
      "600/600 [==============================] - 38s - loss: 0.2141 - acc: 0.9300    \n",
      "Epoch 3/40\n",
      "600/600 [==============================] - 38s - loss: 0.1715 - acc: 0.9433    \n",
      "Epoch 4/40\n",
      "600/600 [==============================] - 42s - loss: 0.1058 - acc: 0.9717    \n",
      "Epoch 5/40\n",
      "600/600 [==============================] - 39s - loss: 0.0844 - acc: 0.9833    \n",
      "Epoch 6/40\n",
      "600/600 [==============================] - 35s - loss: 0.0637 - acc: 0.9833    \n",
      "Epoch 7/40\n",
      "600/600 [==============================] - 38s - loss: 0.0451 - acc: 0.9967    \n",
      "Epoch 8/40\n",
      "600/600 [==============================] - 41s - loss: 0.0366 - acc: 0.9950    \n",
      "Epoch 9/40\n",
      "600/600 [==============================] - 32s - loss: 0.0333 - acc: 0.9933    \n",
      "Epoch 10/40\n",
      "600/600 [==============================] - 36s - loss: 0.0377 - acc: 0.9900    \n",
      "Epoch 11/40\n",
      "600/600 [==============================] - 37s - loss: 0.0511 - acc: 0.9850    \n",
      "Epoch 12/40\n",
      "600/600 [==============================] - 31s - loss: 0.0333 - acc: 0.9950    \n",
      "Epoch 13/40\n",
      "600/600 [==============================] - 31s - loss: 0.0258 - acc: 0.9967    \n",
      "Epoch 14/40\n",
      "600/600 [==============================] - 30s - loss: 0.0320 - acc: 0.9917    \n",
      "Epoch 15/40\n",
      "600/600 [==============================] - 28s - loss: 0.0210 - acc: 0.9967    \n",
      "Epoch 16/40\n",
      "600/600 [==============================] - 30s - loss: 0.0114 - acc: 0.9983    \n",
      "Epoch 17/40\n",
      "600/600 [==============================] - 35s - loss: 0.0138 - acc: 0.9983    \n",
      "Epoch 18/40\n",
      "600/600 [==============================] - 32s - loss: 0.0124 - acc: 0.9983    \n",
      "Epoch 19/40\n",
      "600/600 [==============================] - 26s - loss: 0.0280 - acc: 0.9900    \n",
      "Epoch 20/40\n",
      "600/600 [==============================] - 25s - loss: 0.0264 - acc: 0.9933    \n",
      "Epoch 21/40\n",
      "600/600 [==============================] - 24s - loss: 0.0235 - acc: 0.9950    \n",
      "Epoch 22/40\n",
      "600/600 [==============================] - 25s - loss: 0.0221 - acc: 0.9950    \n",
      "Epoch 23/40\n",
      "600/600 [==============================] - 24s - loss: 0.0178 - acc: 0.9967    \n",
      "Epoch 24/40\n",
      "600/600 [==============================] - 24s - loss: 0.0083 - acc: 0.9983    \n",
      "Epoch 25/40\n",
      "600/600 [==============================] - 24s - loss: 0.0067 - acc: 0.9983    \n",
      "Epoch 26/40\n",
      "600/600 [==============================] - 25s - loss: 0.0051 - acc: 1.0000    \n",
      "Epoch 27/40\n",
      "600/600 [==============================] - 24s - loss: 0.0132 - acc: 0.9967    \n",
      "Epoch 28/40\n",
      "600/600 [==============================] - 23s - loss: 0.0107 - acc: 0.9967    \n",
      "Epoch 29/40\n",
      "600/600 [==============================] - 22s - loss: 0.0074 - acc: 1.0000    \n",
      "Epoch 30/40\n",
      "600/600 [==============================] - 24s - loss: 0.0067 - acc: 0.9983    \n",
      "Epoch 31/40\n",
      "600/600 [==============================] - 27s - loss: 0.0132 - acc: 0.9983    \n",
      "Epoch 32/40\n",
      "600/600 [==============================] - 27s - loss: 0.0025 - acc: 1.0000    \n",
      "Epoch 33/40\n",
      "600/600 [==============================] - 28s - loss: 0.0013 - acc: 1.0000    \n",
      "Epoch 34/40\n",
      "600/600 [==============================] - 24s - loss: 0.0013 - acc: 1.0000    \n",
      "Epoch 35/40\n",
      "600/600 [==============================] - 27s - loss: 0.0014 - acc: 1.0000    \n",
      "Epoch 36/40\n",
      "600/600 [==============================] - 27s - loss: 5.6677e-04 - acc: 1.0000    \n",
      "Epoch 37/40\n",
      "600/600 [==============================] - 27s - loss: 5.3802e-04 - acc: 1.0000    \n",
      "Epoch 38/40\n",
      "600/600 [==============================] - 26s - loss: 4.0990e-04 - acc: 1.0000    \n",
      "Epoch 39/40\n",
      "600/600 [==============================] - 22s - loss: 4.1926e-04 - acc: 1.0000    \n",
      "Epoch 40/40\n",
      "600/600 [==============================] - 21s - loss: 4.0389e-04 - acc: 1.0000    \n"
     ]
    },
    {
     "data": {
      "text/plain": [
       "<keras.callbacks.History at 0x7f460d58f6a0>"
      ]
     },
     "execution_count": 6,
     "metadata": {},
     "output_type": "execute_result"
    }
   ],
   "source": [
    "happyModel.fit(x = X_train, y = Y_train, epochs = 40, batch_size = 16)"
   ]
  },
  {
   "cell_type": "markdown",
   "metadata": {},
   "source": [
    "Note that if you run `fit()` again, the `model` will continue to train with the parameters it has already learnt instead of reinitializing them.\n",
    "\n",
    "**Exercise**: Implement step 4, i.e. test/evaluate the model."
   ]
  },
  {
   "cell_type": "code",
   "execution_count": 7,
   "metadata": {
    "scrolled": true
   },
   "outputs": [
    {
     "name": "stdout",
     "output_type": "stream",
     "text": [
      "150/150 [==============================] - 2s     \n",
      "\n",
      "Loss = 0.0789506174624\n",
      "Test Accuracy = 0.973333330949\n"
     ]
    }
   ],
   "source": [
    "preds = happyModel.evaluate(x = X_test, y = Y_test)\n",
    "print()\n",
    "print (\"Loss = \" + str(preds[0]))\n",
    "print (\"Test Accuracy = \" + str(preds[1]))"
   ]
  },
  {
   "cell_type": "markdown",
   "metadata": {},
   "source": [
    "If your `happyModel()` function worked, you should have observed much better than random-guessing (50%) accuracy on the train and test sets.\n",
    "\n",
    "To give you a point of comparison, our model gets around **95% test accuracy in 40 epochs** (and 99% train accuracy) with a mini batch size of 16 and \"adam\" optimizer. But our model gets decent accuracy after just 2-5 epochs, so if you're comparing different models you can also train a variety of models on just a few epochs and see how they compare. \n",
    "\n",
    "If you have not yet achieved a very good accuracy (let's say more than 80%), here're some things you can play around with to try to achieve it:\n",
    "\n",
    "- Try using blocks of CONV->BATCHNORM->RELU such as:\n",
    "```python\n",
    "X = Conv2D(32, (3, 3), strides = (1, 1), name = 'conv0')(X)\n",
    "X = BatchNormalization(axis = 3, name = 'bn0')(X)\n",
    "X = Activation('relu')(X)\n",
    "```\n",
    "until your height and width dimensions are quite low and your number of channels quite large (≈32 for example). You are encoding useful information in a volume with a lot of channels. You can then flatten the volume and use a fully-connected layer.\n",
    "- You can use MAXPOOL after such blocks. It will help you lower the dimension in height and width.\n",
    "- Change your optimizer. We find Adam works well. \n",
    "- If the model is struggling to run and you get memory issues, lower your batch_size (12 is usually a good compromise)\n",
    "- Run on more epochs, until you see the train accuracy plateauing. \n",
    "\n",
    "Even if you have achieved a good accuracy, please feel free to keep playing with your model to try to get even better results. \n",
    "\n",
    "**Note**: If you perform hyperparameter tuning on your model, the test set actually becomes a dev set, and your model might end up overfitting to the test (dev) set. But just for the purpose of this assignment, we won't worry about that here.\n"
   ]
  },
  {
   "cell_type": "markdown",
   "metadata": {},
   "source": [
    "## 3 - Conclusion\n",
    "\n",
    "Congratulations, you have solved the Happy House challenge! \n",
    "\n",
    "Now, you just need to link this model to the front-door camera of your house. We unfortunately won't go into the details of how to do that here. "
   ]
  },
  {
   "cell_type": "markdown",
   "metadata": {},
   "source": [
    "<font color='blue'>\n",
    "**What we would like you to remember from this assignment:**\n",
    "- Keras is a tool we recommend for rapid prototyping. It allows you to quickly try out different model architectures. Are there any applications of deep learning to your daily life that you'd like to implement using Keras? \n",
    "- Remember how to code a model in Keras and the four steps leading to the evaluation of your model on the test set. Create->Compile->Fit/Train->Evaluate/Test."
   ]
  },
  {
   "cell_type": "markdown",
   "metadata": {},
   "source": [
    "## 4 - Test with your own image (Optional)\n",
    "\n",
    "Congratulations on finishing this assignment. You can now take a picture of your face and see if you could enter the Happy House. To do that:\n",
    "    1. Click on \"File\" in the upper bar of this notebook, then click \"Open\" to go on your Coursera Hub.\n",
    "    2. Add your image to this Jupyter Notebook's directory, in the \"images\" folder\n",
    "    3. Write your image's name in the following code\n",
    "    4. Run the code and check if the algorithm is right (0 is unhappy, 1 is happy)!\n",
    "    \n",
    "The training/test sets were quite similar; for example, all the pictures were taken against the same background (since a front door camera is always mounted in the same position). This makes the problem easier, but a model trained on this data may or may not work on your own data. But feel free to give it a try! "
   ]
  },
  {
   "cell_type": "code",
   "execution_count": 8,
   "metadata": {},
   "outputs": [
    {
     "name": "stdout",
     "output_type": "stream",
     "text": [
      "[[ 1.]]\n"
     ]
    },
    {
     "data": {
      "image/png": "[encoded data removed]",
      "text/plain": [
       "<matplotlib.figure.Figure at 0x7f460d5a5a58>"
      ]
     },
     "metadata": {},
     "output_type": "display_data"
    }
   ],
   "source": [
    "img_path = 'images/my_image.jpg'\n",
    "img = image.load_img(img_path, target_size=(64, 64))\n",
    "imshow(img)\n",
    "\n",
    "x = image.img_to_array(img)\n",
    "x = np.expand_dims(x, axis=0)\n",
    "x = preprocess_input(x)\n",
    "\n",
    "print(happyModel.predict(x))"
   ]
  },
  {
   "cell_type": "markdown",
   "metadata": {},
   "source": [
    "## 5 - Other useful functions in Keras (Optional)\n",
    "\n",
    "Two other basic features of Keras that you'll find useful are:\n",
    "- `model.summary()`: prints the details of your layers in a table with the sizes of its inputs/outputs\n",
    "- `plot_model()`: plots your graph in a nice layout. You can even save it as \".png\" using SVG() if you'd like to share it on social media ;). It is saved in \"File\" then \"Open...\" in the upper bar of the notebook.\n",
    "\n",
    "Run the following code."
   ]
  },
  {
   "cell_type": "code",
   "execution_count": 9,
   "metadata": {
    "scrolled": false
   },
   "outputs": [
    {
     "name": "stdout",
     "output_type": "stream",
     "text": [
      "_________________________________________________________________\n",
      "Layer (type)                 Output Shape              Param #   \n",
      "=================================================================\n",
      "input_1 (InputLayer)         (None, 64, 64, 3)         0         \n",
      "_________________________________________________________________\n",
      "zero_padding2d_1 (ZeroPaddin (None, 70, 70, 3)         0         \n",
      "_________________________________________________________________\n",
      "conv0 (Conv2D)               (None, 64, 64, 32)        4736      \n",
      "_________________________________________________________________\n",
      "bn0 (BatchNormalization)     (None, 64, 64, 32)        128       \n",
      "_________________________________________________________________\n",
      "activation_1 (Activation)    (None, 64, 64, 32)        0         \n",
      "_________________________________________________________________\n",
      "max_pool0 (MaxPooling2D)     (None, 32, 32, 32)        0         \n",
      "_________________________________________________________________\n",
      "conv1 (Conv2D)               (None, 30, 30, 32)        9248      \n",
      "_________________________________________________________________\n",
      "bn1 (BatchNormalization)     (None, 30, 30, 32)        128       \n",
      "_________________________________________________________________\n",
      "activation_2 (Activation)    (None, 30, 30, 32)        0         \n",
      "_________________________________________________________________\n",
      "max_pool1 (MaxPooling2D)     (None, 15, 15, 32)        0         \n",
      "_________________________________________________________________\n",
      "conv2 (Conv2D)               (None, 13, 13, 32)        9248      \n",
      "_________________________________________________________________\n",
      "bn2 (BatchNormalization)     (None, 13, 13, 32)        128       \n",
      "_________________________________________________________________\n",
      "activation_3 (Activation)    (None, 13, 13, 32)        0         \n",
      "_________________________________________________________________\n",
      "max_pool2 (MaxPooling2D)     (None, 6, 6, 32)          0         \n",
      "_________________________________________________________________\n",
      "conv3 (Conv2D)               (None, 4, 4, 32)          9248      \n",
      "_________________________________________________________________\n",
      "bn3 (BatchNormalization)     (None, 4, 4, 32)          128       \n",
      "_________________________________________________________________\n",
      "activation_4 (Activation)    (None, 4, 4, 32)          0         \n",
      "_________________________________________________________________\n",
      "max_pool3 (MaxPooling2D)     (None, 2, 2, 32)          0         \n",
      "_________________________________________________________________\n",
      "flatten_1 (Flatten)          (None, 128)               0         \n",
      "_________________________________________________________________\n",
      "fc (Dense)                   (None, 1)                 129       \n",
      "=================================================================\n",
      "Total params: 33,121\n",
      "Trainable params: 32,865\n",
      "Non-trainable params: 256\n",
      "_________________________________________________________________\n"
     ]
    }
   ],
   "source": [
    "happyModel.summary()"
   ]
  },
  {
   "cell_type": "code",
   "execution_count": 10,
   "metadata": {},
   "outputs": [
    {
     "data": {
      "image/svg+xml": [
       "<svg height=\"1432pt\" viewBox=\"0.00 0.00 225.00 1432.00\" width=\"225pt\" xmlns=\"http://www.w3.org/2000/svg\" xmlns:xlink=\"http://www.w3.org/1999/xlink\">\n",
       "<g class=\"graph\" id=\"graph0\" transform=\"scale(1 1) rotate(0) translate(4 1428)\">\n",
       "<title>G</title>\n",
       "<polygon fill=\"white\" points=\"-4,4 -4,-1428 221,-1428 221,4 -4,4\" stroke=\"none\"/>\n",
       "<!-- 139938851599696 -->\n",
       "<g class=\"node\" id=\"node1\"><title>139938851599696</title>\n",
       "<polygon fill=\"none\" points=\"45.5,-1387.5 45.5,-1423.5 171.5,-1423.5 171.5,-1387.5 45.5,-1387.5\" stroke=\"black\"/>\n",
       "<text font-family=\"Times,serif\" font-size=\"14.00\" text-anchor=\"middle\" x=\"108.5\" y=\"-1401.8\">input_1: InputLayer</text>\n",
       "</g>\n",
       "<!-- 139938851600368 -->\n",
       "<g class=\"node\" id=\"node2\"><title>139938851600368</title>\n",
       "<polygon fill=\"none\" points=\"0,-1314.5 0,-1350.5 217,-1350.5 217,-1314.5 0,-1314.5\" stroke=\"black\"/>\n",
       "<text font-family=\"Times,serif\" font-size=\"14.00\" text-anchor=\"middle\" x=\"108.5\" y=\"-1328.8\">zero_padding2d_1: ZeroPadding2D</text>\n",
       "</g>\n",
       "<!-- 139938851599696&#45;&gt;139938851600368 -->\n",
       "<g class=\"edge\" id=\"edge1\"><title>139938851599696-&gt;139938851600368</title>\n",
       "<path d=\"M108.5,-1387.31C108.5,-1379.29 108.5,-1369.55 108.5,-1360.57\" fill=\"none\" stroke=\"black\"/>\n",
       "<polygon fill=\"black\" points=\"112,-1360.53 108.5,-1350.53 105,-1360.53 112,-1360.53\" stroke=\"black\"/>\n",
       "</g>\n",
       "<!-- 139938851599752 -->\n",
       "<g class=\"node\" id=\"node3\"><title>139938851599752</title>\n",
       "<polygon fill=\"none\" points=\"56,-1241.5 56,-1277.5 161,-1277.5 161,-1241.5 56,-1241.5\" stroke=\"black\"/>\n",
       "<text font-family=\"Times,serif\" font-size=\"14.00\" text-anchor=\"middle\" x=\"108.5\" y=\"-1255.8\">conv0: Conv2D</text>\n",
       "</g>\n",
       "<!-- 139938851600368&#45;&gt;139938851599752 -->\n",
       "<g class=\"edge\" id=\"edge2\"><title>139938851600368-&gt;139938851599752</title>\n",
       "<path d=\"M108.5,-1314.31C108.5,-1306.29 108.5,-1296.55 108.5,-1287.57\" fill=\"none\" stroke=\"black\"/>\n",
       "<polygon fill=\"black\" points=\"112,-1287.53 108.5,-1277.53 105,-1287.53 112,-1287.53\" stroke=\"black\"/>\n",
       "</g>\n",
       "<!-- 139938851601040 -->\n",
       "<g class=\"node\" id=\"node4\"><title>139938851601040</title>\n",
       "<polygon fill=\"none\" points=\"31.5,-1168.5 31.5,-1204.5 185.5,-1204.5 185.5,-1168.5 31.5,-1168.5\" stroke=\"black\"/>\n",
       "<text font-family=\"Times,serif\" font-size=\"14.00\" text-anchor=\"middle\" x=\"108.5\" y=\"-1182.8\">bn0: BatchNormalization</text>\n",
       "</g>\n",
       "<!-- 139938851599752&#45;&gt;139938851601040 -->\n",
       "<g class=\"edge\" id=\"edge3\"><title>139938851599752-&gt;139938851601040</title>\n",
       "<path d=\"M108.5,-1241.31C108.5,-1233.29 108.5,-1223.55 108.5,-1214.57\" fill=\"none\" stroke=\"black\"/>\n",
       "<polygon fill=\"black\" points=\"112,-1214.53 108.5,-1204.53 105,-1214.53 112,-1214.53\" stroke=\"black\"/>\n",
       "</g>\n",
       "<!-- 139938851601432 -->\n",
       "<g class=\"node\" id=\"node5\"><title>139938851601432</title>\n",
       "<polygon fill=\"none\" points=\"35,-1095.5 35,-1131.5 182,-1131.5 182,-1095.5 35,-1095.5\" stroke=\"black\"/>\n",
       "<text font-family=\"Times,serif\" font-size=\"14.00\" text-anchor=\"middle\" x=\"108.5\" y=\"-1109.8\">activation_1: Activation</text>\n",
       "</g>\n",
       "<!-- 139938851601040&#45;&gt;139938851601432 -->\n",
       "<g class=\"edge\" id=\"edge4\"><title>139938851601040-&gt;139938851601432</title>\n",
       "<path d=\"M108.5,-1168.31C108.5,-1160.29 108.5,-1150.55 108.5,-1141.57\" fill=\"none\" stroke=\"black\"/>\n",
       "<polygon fill=\"black\" points=\"112,-1141.53 108.5,-1131.53 105,-1141.53 112,-1141.53\" stroke=\"black\"/>\n",
       "</g>\n",
       "<!-- 139938851596272 -->\n",
       "<g class=\"node\" id=\"node6\"><title>139938851596272</title>\n",
       "<polygon fill=\"none\" points=\"23.5,-1022.5 23.5,-1058.5 193.5,-1058.5 193.5,-1022.5 23.5,-1022.5\" stroke=\"black\"/>\n",
       "<text font-family=\"Times,serif\" font-size=\"14.00\" text-anchor=\"middle\" x=\"108.5\" y=\"-1036.8\">max_pool0: MaxPooling2D</text>\n",
       "</g>\n",
       "<!-- 139938851601432&#45;&gt;139938851596272 -->\n",
       "<g class=\"edge\" id=\"edge5\"><title>139938851601432-&gt;139938851596272</title>\n",
       "<path d=\"M108.5,-1095.31C108.5,-1087.29 108.5,-1077.55 108.5,-1068.57\" fill=\"none\" stroke=\"black\"/>\n",
       "<polygon fill=\"black\" points=\"112,-1068.53 108.5,-1058.53 105,-1068.53 112,-1068.53\" stroke=\"black\"/>\n",
       "</g>\n",
       "<!-- 139938850873920 -->\n",
       "<g class=\"node\" id=\"node7\"><title>139938850873920</title>\n",
       "<polygon fill=\"none\" points=\"56,-949.5 56,-985.5 161,-985.5 161,-949.5 56,-949.5\" stroke=\"black\"/>\n",
       "<text font-family=\"Times,serif\" font-size=\"14.00\" text-anchor=\"middle\" x=\"108.5\" y=\"-963.8\">conv1: Conv2D</text>\n",
       "</g>\n",
       "<!-- 139938851596272&#45;&gt;139938850873920 -->\n",
       "<g class=\"edge\" id=\"edge6\"><title>139938851596272-&gt;139938850873920</title>\n",
       "<path d=\"M108.5,-1022.31C108.5,-1014.29 108.5,-1004.55 108.5,-995.569\" fill=\"none\" stroke=\"black\"/>\n",
       "<polygon fill=\"black\" points=\"112,-995.529 108.5,-985.529 105,-995.529 112,-995.529\" stroke=\"black\"/>\n",
       "</g>\n",
       "<!-- 139938850613176 -->\n",
       "<g class=\"node\" id=\"node8\"><title>139938850613176</title>\n",
       "<polygon fill=\"none\" points=\"31.5,-876.5 31.5,-912.5 185.5,-912.5 185.5,-876.5 31.5,-876.5\" stroke=\"black\"/>\n",
       "<text font-family=\"Times,serif\" font-size=\"14.00\" text-anchor=\"middle\" x=\"108.5\" y=\"-890.8\">bn1: BatchNormalization</text>\n",
       "</g>\n",
       "<!-- 139938850873920&#45;&gt;139938850613176 -->\n",
       "<g class=\"edge\" id=\"edge7\"><title>139938850873920-&gt;139938850613176</title>\n",
       "<path d=\"M108.5,-949.313C108.5,-941.289 108.5,-931.547 108.5,-922.569\" fill=\"none\" stroke=\"black\"/>\n",
       "<polygon fill=\"black\" points=\"112,-922.529 108.5,-912.529 105,-922.529 112,-922.529\" stroke=\"black\"/>\n",
       "</g>\n",
       "<!-- 139938850823416 -->\n",
       "<g class=\"node\" id=\"node9\"><title>139938850823416</title>\n",
       "<polygon fill=\"none\" points=\"35,-803.5 35,-839.5 182,-839.5 182,-803.5 35,-803.5\" stroke=\"black\"/>\n",
       "<text font-family=\"Times,serif\" font-size=\"14.00\" text-anchor=\"middle\" x=\"108.5\" y=\"-817.8\">activation_2: Activation</text>\n",
       "</g>\n",
       "<!-- 139938850613176&#45;&gt;139938850823416 -->\n",
       "<g class=\"edge\" id=\"edge8\"><title>139938850613176-&gt;139938850823416</title>\n",
       "<path d=\"M108.5,-876.313C108.5,-868.289 108.5,-858.547 108.5,-849.569\" fill=\"none\" stroke=\"black\"/>\n",
       "<polygon fill=\"black\" points=\"112,-849.529 108.5,-839.529 105,-849.529 112,-849.529\" stroke=\"black\"/>\n",
       "</g>\n",
       "<!-- 139938850396648 -->\n",
       "<g class=\"node\" id=\"node10\"><title>139938850396648</title>\n",
       "<polygon fill=\"none\" points=\"23.5,-730.5 23.5,-766.5 193.5,-766.5 193.5,-730.5 23.5,-730.5\" stroke=\"black\"/>\n",
       "<text font-family=\"Times,serif\" font-size=\"14.00\" text-anchor=\"middle\" x=\"108.5\" y=\"-744.8\">max_pool1: MaxPooling2D</text>\n",
       "</g>\n",
       "<!-- 139938850823416&#45;&gt;139938850396648 -->\n",
       "<g class=\"edge\" id=\"edge9\"><title>139938850823416-&gt;139938850396648</title>\n",
       "<path d=\"M108.5,-803.313C108.5,-795.289 108.5,-785.547 108.5,-776.569\" fill=\"none\" stroke=\"black\"/>\n",
       "<polygon fill=\"black\" points=\"112,-776.529 108.5,-766.529 105,-776.529 112,-776.529\" stroke=\"black\"/>\n",
       "</g>\n",
       "<!-- 139938850471720 -->\n",
       "<g class=\"node\" id=\"node11\"><title>139938850471720</title>\n",
       "<polygon fill=\"none\" points=\"56,-657.5 56,-693.5 161,-693.5 161,-657.5 56,-657.5\" stroke=\"black\"/>\n",
       "<text font-family=\"Times,serif\" font-size=\"14.00\" text-anchor=\"middle\" x=\"108.5\" y=\"-671.8\">conv2: Conv2D</text>\n",
       "</g>\n",
       "<!-- 139938850396648&#45;&gt;139938850471720 -->\n",
       "<g class=\"edge\" id=\"edge10\"><title>139938850396648-&gt;139938850471720</title>\n",
       "<path d=\"M108.5,-730.313C108.5,-722.289 108.5,-712.547 108.5,-703.569\" fill=\"none\" stroke=\"black\"/>\n",
       "<polygon fill=\"black\" points=\"112,-703.529 108.5,-693.529 105,-703.529 112,-703.529\" stroke=\"black\"/>\n",
       "</g>\n",
       "<!-- 139938850556056 -->\n",
       "<g class=\"node\" id=\"node12\"><title>139938850556056</title>\n",
       "<polygon fill=\"none\" points=\"31.5,-584.5 31.5,-620.5 185.5,-620.5 185.5,-584.5 31.5,-584.5\" stroke=\"black\"/>\n",
       "<text font-family=\"Times,serif\" font-size=\"14.00\" text-anchor=\"middle\" x=\"108.5\" y=\"-598.8\">bn2: BatchNormalization</text>\n",
       "</g>\n",
       "<!-- 139938850471720&#45;&gt;139938850556056 -->\n",
       "<g class=\"edge\" id=\"edge11\"><title>139938850471720-&gt;139938850556056</title>\n",
       "<path d=\"M108.5,-657.313C108.5,-649.289 108.5,-639.547 108.5,-630.569\" fill=\"none\" stroke=\"black\"/>\n",
       "<polygon fill=\"black\" points=\"112,-630.529 108.5,-620.529 105,-630.529 112,-630.529\" stroke=\"black\"/>\n",
       "</g>\n",
       "<!-- 139938850053256 -->\n",
       "<g class=\"node\" id=\"node13\"><title>139938850053256</title>\n",
       "<polygon fill=\"none\" points=\"35,-511.5 35,-547.5 182,-547.5 182,-511.5 35,-511.5\" stroke=\"black\"/>\n",
       "<text font-family=\"Times,serif\" font-size=\"14.00\" text-anchor=\"middle\" x=\"108.5\" y=\"-525.8\">activation_3: Activation</text>\n",
       "</g>\n",
       "<!-- 139938850556056&#45;&gt;139938850053256 -->\n",
       "<g class=\"edge\" id=\"edge12\"><title>139938850556056-&gt;139938850053256</title>\n",
       "<path d=\"M108.5,-584.313C108.5,-576.289 108.5,-566.547 108.5,-557.569\" fill=\"none\" stroke=\"black\"/>\n",
       "<polygon fill=\"black\" points=\"112,-557.529 108.5,-547.529 105,-557.529 112,-557.529\" stroke=\"black\"/>\n",
       "</g>\n",
       "<!-- 139938849980200 -->\n",
       "<g class=\"node\" id=\"node14\"><title>139938849980200</title>\n",
       "<polygon fill=\"none\" points=\"23.5,-438.5 23.5,-474.5 193.5,-474.5 193.5,-438.5 23.5,-438.5\" stroke=\"black\"/>\n",
       "<text font-family=\"Times,serif\" font-size=\"14.00\" text-anchor=\"middle\" x=\"108.5\" y=\"-452.8\">max_pool2: MaxPooling2D</text>\n",
       "</g>\n",
       "<!-- 139938850053256&#45;&gt;139938849980200 -->\n",
       "<g class=\"edge\" id=\"edge13\"><title>139938850053256-&gt;139938849980200</title>\n",
       "<path d=\"M108.5,-511.313C108.5,-503.289 108.5,-493.547 108.5,-484.569\" fill=\"none\" stroke=\"black\"/>\n",
       "<polygon fill=\"black\" points=\"112,-484.529 108.5,-474.529 105,-484.529 112,-484.529\" stroke=\"black\"/>\n",
       "</g>\n",
       "<!-- 139938849606456 -->\n",
       "<g class=\"node\" id=\"node15\"><title>139938849606456</title>\n",
       "<polygon fill=\"none\" points=\"56,-365.5 56,-401.5 161,-401.5 161,-365.5 56,-365.5\" stroke=\"black\"/>\n",
       "<text font-family=\"Times,serif\" font-size=\"14.00\" text-anchor=\"middle\" x=\"108.5\" y=\"-379.8\">conv3: Conv2D</text>\n",
       "</g>\n",
       "<!-- 139938849980200&#45;&gt;139938849606456 -->\n",
       "<g class=\"edge\" id=\"edge14\"><title>139938849980200-&gt;139938849606456</title>\n",
       "<path d=\"M108.5,-438.313C108.5,-430.289 108.5,-420.547 108.5,-411.569\" fill=\"none\" stroke=\"black\"/>\n",
       "<polygon fill=\"black\" points=\"112,-411.529 108.5,-401.529 105,-411.529 112,-411.529\" stroke=\"black\"/>\n",
       "</g>\n",
       "<!-- 139938849472584 -->\n",
       "<g class=\"node\" id=\"node16\"><title>139938849472584</title>\n",
       "<polygon fill=\"none\" points=\"31.5,-292.5 31.5,-328.5 185.5,-328.5 185.5,-292.5 31.5,-292.5\" stroke=\"black\"/>\n",
       "<text font-family=\"Times,serif\" font-size=\"14.00\" text-anchor=\"middle\" x=\"108.5\" y=\"-306.8\">bn3: BatchNormalization</text>\n",
       "</g>\n",
       "<!-- 139938849606456&#45;&gt;139938849472584 -->\n",
       "<g class=\"edge\" id=\"edge15\"><title>139938849606456-&gt;139938849472584</title>\n",
       "<path d=\"M108.5,-365.313C108.5,-357.289 108.5,-347.547 108.5,-338.569\" fill=\"none\" stroke=\"black\"/>\n",
       "<polygon fill=\"black\" points=\"112,-338.529 108.5,-328.529 105,-338.529 112,-338.529\" stroke=\"black\"/>\n",
       "</g>\n",
       "<!-- 139938849033856 -->\n",
       "<g class=\"node\" id=\"node17\"><title>139938849033856</title>\n",
       "<polygon fill=\"none\" points=\"35,-219.5 35,-255.5 182,-255.5 182,-219.5 35,-219.5\" stroke=\"black\"/>\n",
       "<text font-family=\"Times,serif\" font-size=\"14.00\" text-anchor=\"middle\" x=\"108.5\" y=\"-233.8\">activation_4: Activation</text>\n",
       "</g>\n",
       "<!-- 139938849472584&#45;&gt;139938849033856 -->\n",
       "<g class=\"edge\" id=\"edge16\"><title>139938849472584-&gt;139938849033856</title>\n",
       "<path d=\"M108.5,-292.313C108.5,-284.289 108.5,-274.547 108.5,-265.569\" fill=\"none\" stroke=\"black\"/>\n",
       "<polygon fill=\"black\" points=\"112,-265.529 108.5,-255.529 105,-265.529 112,-265.529\" stroke=\"black\"/>\n",
       "</g>\n",
       "<!-- 139938849124024 -->\n",
       "<g class=\"node\" id=\"node18\"><title>139938849124024</title>\n",
       "<polygon fill=\"none\" points=\"23.5,-146.5 23.5,-182.5 193.5,-182.5 193.5,-146.5 23.5,-146.5\" stroke=\"black\"/>\n",
       "<text font-family=\"Times,serif\" font-size=\"14.00\" text-anchor=\"middle\" x=\"108.5\" y=\"-160.8\">max_pool3: MaxPooling2D</text>\n",
       "</g>\n",
       "<!-- 139938849033856&#45;&gt;139938849124024 -->\n",
       "<g class=\"edge\" id=\"edge17\"><title>139938849033856-&gt;139938849124024</title>\n",
       "<path d=\"M108.5,-219.313C108.5,-211.289 108.5,-201.547 108.5,-192.569\" fill=\"none\" stroke=\"black\"/>\n",
       "<polygon fill=\"black\" points=\"112,-192.529 108.5,-182.529 105,-192.529 112,-192.529\" stroke=\"black\"/>\n",
       "</g>\n",
       "<!-- 139938848761672 -->\n",
       "<g class=\"node\" id=\"node19\"><title>139938848761672</title>\n",
       "<polygon fill=\"none\" points=\"54,-73.5 54,-109.5 163,-109.5 163,-73.5 54,-73.5\" stroke=\"black\"/>\n",
       "<text font-family=\"Times,serif\" font-size=\"14.00\" text-anchor=\"middle\" x=\"108.5\" y=\"-87.8\">flatten_1: Flatten</text>\n",
       "</g>\n",
       "<!-- 139938849124024&#45;&gt;139938848761672 -->\n",
       "<g class=\"edge\" id=\"edge18\"><title>139938849124024-&gt;139938848761672</title>\n",
       "<path d=\"M108.5,-146.313C108.5,-138.289 108.5,-128.547 108.5,-119.569\" fill=\"none\" stroke=\"black\"/>\n",
       "<polygon fill=\"black\" points=\"112,-119.529 108.5,-109.529 105,-119.529 112,-119.529\" stroke=\"black\"/>\n",
       "</g>\n",
       "<!-- 139938848763576 -->\n",
       "<g class=\"node\" id=\"node20\"><title>139938848763576</title>\n",
       "<polygon fill=\"none\" points=\"74,-0.5 74,-36.5 143,-36.5 143,-0.5 74,-0.5\" stroke=\"black\"/>\n",
       "<text font-family=\"Times,serif\" font-size=\"14.00\" text-anchor=\"middle\" x=\"108.5\" y=\"-14.8\">fc: Dense</text>\n",
       "</g>\n",
       "<!-- 139938848761672&#45;&gt;139938848763576 -->\n",
       "<g class=\"edge\" id=\"edge19\"><title>139938848761672-&gt;139938848763576</title>\n",
       "<path d=\"M108.5,-73.3129C108.5,-65.2895 108.5,-55.5475 108.5,-46.5691\" fill=\"none\" stroke=\"black\"/>\n",
       "<polygon fill=\"black\" points=\"112,-46.5288 108.5,-36.5288 105,-46.5289 112,-46.5288\" stroke=\"black\"/>\n",
       "</g>\n",
       "</g>\n",
       "</svg>"
      ],
      "text/plain": [
       "<IPython.core.display.SVG object>"
      ]
     },
     "execution_count": 10,
     "metadata": {},
     "output_type": "execute_result"
    }
   ],
   "source": [
    "plot_model(happyModel, to_file='HappyModel.png')\n",
    "SVG(model_to_dot(happyModel).create(prog='dot', format='svg'))"
   ]
  }
 ],
 "metadata": {
  "kernelspec": {
   "display_name": "Python 3",
   "language": "python",
   "name": "python3"
  },
  "language_info": {
   "codemirror_mode": {
    "name": "ipython",
    "version": 3
   },
   "file_extension": ".py",
   "mimetype": "text/x-python",
   "name": "python",
   "nbconvert_exporter": "python",
   "pygments_lexer": "ipython3",
   "version": "3.6.0"
  }
 },
 "nbformat": 4,
 "nbformat_minor": 2
}
